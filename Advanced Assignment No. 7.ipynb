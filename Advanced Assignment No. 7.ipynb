{
 "cells": [
  {
   "cell_type": "markdown",
   "id": "94ff736d",
   "metadata": {},
   "source": [
    "1) What is the purpose of try statement ?\n",
    "\n",
    ":- Try block lets you test a block of code errors while it is executing."
   ]
  },
  {
   "cell_type": "markdown",
   "id": "1db70b86",
   "metadata": {},
   "source": [
    "2) What are the two popular try statement variatons ?\n",
    "\n",
    ":- try and except "
   ]
  },
  {
   "cell_type": "markdown",
   "id": "0c6da3d7",
   "metadata": {},
   "source": [
    "3) What is the purpose of raise statement ?\n",
    "\n",
    ":- Stops normal excution of PL/SQL block or subprogram and transfer excution to exception handler."
   ]
  },
  {
   "cell_type": "markdown",
   "id": "79e395b1",
   "metadata": {},
   "source": [
    "4) What does the assert statement do, and what other statement is it like ?\n",
    "\n",
    ":- Used to check type, value of argument & the output of the function. Assert is nothing but it assert or state fact in        your program. AssertionError"
   ]
  },
  {
   "cell_type": "markdown",
   "id": "a5ddf351",
   "metadata": {},
   "source": [
    "5) What is the purpose of the with/as argument, and what other statement is it like ? \n",
    "\n",
    ":- It is used in exception handling to make the code more cleaner & much more readable."
   ]
  }
 ],
 "metadata": {
  "kernelspec": {
   "display_name": "Python 3 (ipykernel)",
   "language": "python",
   "name": "python3"
  },
  "language_info": {
   "codemirror_mode": {
    "name": "ipython",
    "version": 3
   },
   "file_extension": ".py",
   "mimetype": "text/x-python",
   "name": "python",
   "nbconvert_exporter": "python",
   "pygments_lexer": "ipython3",
   "version": "3.9.7"
  }
 },
 "nbformat": 4,
 "nbformat_minor": 5
}
